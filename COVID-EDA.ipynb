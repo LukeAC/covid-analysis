{
 "cells": [
  {
   "cell_type": "code",
   "execution_count": 1,
   "metadata": {},
   "outputs": [],
   "source": [
    "from queries import get_data\n",
    "from preprocessing import preprocessing\n",
    "from utils import *"
   ]
  },
  {
   "cell_type": "code",
   "execution_count": 2,
   "metadata": {},
   "outputs": [],
   "source": [
    "# TODO\n",
    "# Intake time-series data / Load data\n",
    "# EDA (on values)\n",
    "# plot time series plots (i.e. seasonal decomposition, etc.)\n",
    "# plot acf/pcf\n"
   ]
  },
  {
   "cell_type": "code",
   "execution_count": 3,
   "metadata": {},
   "outputs": [],
   "source": [
    "df = get_data()"
   ]
  },
  {
   "cell_type": "code",
   "execution_count": 4,
   "metadata": {},
   "outputs": [
    {
     "name": "stdout",
     "output_type": "stream",
     "text": [
      "<class 'pandas.core.frame.DataFrame'>\n",
      "Int64Index: 884 entries, 0 to 883\n",
      "Data columns (total 13 columns):\n",
      " #   Column       Non-Null Count  Dtype              \n",
      "---  ------       --------------  -----              \n",
      " 0   ID           884 non-null    object             \n",
      " 1   Country      884 non-null    object             \n",
      " 2   CountryCode  884 non-null    object             \n",
      " 3   Province     884 non-null    object             \n",
      " 4   City         884 non-null    object             \n",
      " 5   CityCode     884 non-null    object             \n",
      " 6   Lat          884 non-null    object             \n",
      " 7   Lon          884 non-null    object             \n",
      " 8   Confirmed    884 non-null    int64              \n",
      " 9   Deaths       884 non-null    int64              \n",
      " 10  Recovered    884 non-null    int64              \n",
      " 11  Active       884 non-null    int64              \n",
      " 12  Date         884 non-null    datetime64[ns, UTC]\n",
      "dtypes: datetime64[ns, UTC](1), int64(4), object(8)\n",
      "memory usage: 96.7+ KB\n"
     ]
    }
   ],
   "source": [
    "df.info()"
   ]
  },
  {
   "cell_type": "code",
   "execution_count": 5,
   "metadata": {},
   "outputs": [
    {
     "data": {
      "text/html": [
       "<div>\n",
       "<style scoped>\n",
       "    .dataframe tbody tr th:only-of-type {\n",
       "        vertical-align: middle;\n",
       "    }\n",
       "\n",
       "    .dataframe tbody tr th {\n",
       "        vertical-align: top;\n",
       "    }\n",
       "\n",
       "    .dataframe thead th {\n",
       "        text-align: right;\n",
       "    }\n",
       "</style>\n",
       "<table border=\"1\" class=\"dataframe\">\n",
       "  <thead>\n",
       "    <tr style=\"text-align: right;\">\n",
       "      <th></th>\n",
       "      <th>Confirmed</th>\n",
       "      <th>Deaths</th>\n",
       "      <th>Recovered</th>\n",
       "      <th>Active</th>\n",
       "    </tr>\n",
       "  </thead>\n",
       "  <tbody>\n",
       "    <tr>\n",
       "      <th>count</th>\n",
       "      <td>8.840000e+02</td>\n",
       "      <td>884.000000</td>\n",
       "      <td>8.840000e+02</td>\n",
       "      <td>8.840000e+02</td>\n",
       "    </tr>\n",
       "    <tr>\n",
       "      <th>mean</th>\n",
       "      <td>1.085264e+06</td>\n",
       "      <td>19080.470588</td>\n",
       "      <td>2.989235e+05</td>\n",
       "      <td>8.008399e+05</td>\n",
       "    </tr>\n",
       "    <tr>\n",
       "      <th>std</th>\n",
       "      <td>1.042768e+06</td>\n",
       "      <td>10822.879240</td>\n",
       "      <td>4.577997e+05</td>\n",
       "      <td>1.155665e+06</td>\n",
       "    </tr>\n",
       "    <tr>\n",
       "      <th>min</th>\n",
       "      <td>2.000000e+00</td>\n",
       "      <td>0.000000</td>\n",
       "      <td>0.000000e+00</td>\n",
       "      <td>0.000000e+00</td>\n",
       "    </tr>\n",
       "    <tr>\n",
       "      <th>25%</th>\n",
       "      <td>1.155272e+05</td>\n",
       "      <td>9063.750000</td>\n",
       "      <td>0.000000e+00</td>\n",
       "      <td>0.000000e+00</td>\n",
       "    </tr>\n",
       "    <tr>\n",
       "      <th>50%</th>\n",
       "      <td>8.946150e+05</td>\n",
       "      <td>21950.000000</td>\n",
       "      <td>4.043100e+04</td>\n",
       "      <td>8.651500e+03</td>\n",
       "    </tr>\n",
       "    <tr>\n",
       "      <th>75%</th>\n",
       "      <td>1.427778e+06</td>\n",
       "      <td>26297.750000</td>\n",
       "      <td>4.532852e+05</td>\n",
       "      <td>1.401481e+06</td>\n",
       "    </tr>\n",
       "    <tr>\n",
       "      <th>max</th>\n",
       "      <td>3.351691e+06</td>\n",
       "      <td>37270.000000</td>\n",
       "      <td>1.405971e+06</td>\n",
       "      <td>3.314421e+06</td>\n",
       "    </tr>\n",
       "  </tbody>\n",
       "</table>\n",
       "</div>"
      ],
      "text/plain": [
       "          Confirmed        Deaths     Recovered        Active\n",
       "count  8.840000e+02    884.000000  8.840000e+02  8.840000e+02\n",
       "mean   1.085264e+06  19080.470588  2.989235e+05  8.008399e+05\n",
       "std    1.042768e+06  10822.879240  4.577997e+05  1.155665e+06\n",
       "min    2.000000e+00      0.000000  0.000000e+00  0.000000e+00\n",
       "25%    1.155272e+05   9063.750000  0.000000e+00  0.000000e+00\n",
       "50%    8.946150e+05  21950.000000  4.043100e+04  8.651500e+03\n",
       "75%    1.427778e+06  26297.750000  4.532852e+05  1.401481e+06\n",
       "max    3.351691e+06  37270.000000  1.405971e+06  3.314421e+06"
      ]
     },
     "execution_count": 5,
     "metadata": {},
     "output_type": "execute_result"
    }
   ],
   "source": [
    "df.describe()"
   ]
  },
  {
   "cell_type": "code",
   "execution_count": 7,
   "metadata": {},
   "outputs": [
    {
     "data": {
      "image/png": "[encoded data removed]",
      "text/plain": [
       "<Figure size 432x288 with 1 Axes>"
      ]
     },
     "metadata": {
      "needs_background": "light"
     },
     "output_type": "display_data"
    }
   ],
   "source": [
    "plot_initial_growth(['Canada']);  # To be added in utils.plotting"
   ]
  },
  {
   "cell_type": "code",
   "execution_count": null,
   "metadata": {},
   "outputs": [],
   "source": [
    "df = preprocessing(df)  # dtype conversions etc."
   ]
  },
  {
   "cell_type": "code",
   "execution_count": null,
   "metadata": {},
   "outputs": [],
   "source": [
    "X, y = df[\"Date\"], df[\"Active\"]  # choose simple expl/resp vars"
   ]
  },
  {
   "cell_type": "code",
   "execution_count": null,
   "metadata": {},
   "outputs": [],
   "source": [
    "# Model selection/diagnostic"
   ]
  },
  {
   "cell_type": "code",
   "execution_count": null,
   "metadata": {},
   "outputs": [],
   "source": [
    "# Train/fit"
   ]
  },
  {
   "cell_type": "code",
   "execution_count": null,
   "metadata": {},
   "outputs": [],
   "source": [
    "# Predict + Predict Viz"
   ]
  },
  {
   "cell_type": "code",
   "execution_count": null,
   "metadata": {},
   "outputs": [],
   "source": [
    "# Evaluation"
   ]
  }
 ],
 "metadata": {
  "kernelspec": {
   "display_name": "Python 3.9.13 ('stats-mod')",
   "language": "python",
   "name": "python3"
  },
  "language_info": {
   "codemirror_mode": {
    "name": "ipython",
    "version": 3
   },
   "file_extension": ".py",
   "mimetype": "text/x-python",
   "name": "python",
   "nbconvert_exporter": "python",
   "pygments_lexer": "ipython3",
   "version": "3.9.13"
  },
  "orig_nbformat": 4,
  "vscode": {
   "interpreter": {
    "hash": "90ada90cb28db5790ffc6cec931564c01de0644cd2fb6dd1e0ecc4b992ac541f"
   }
  }
 },
 "nbformat": 4,
 "nbformat_minor": 2
}
